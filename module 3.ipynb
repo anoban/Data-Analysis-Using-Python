{
 "cells": [
  {
   "cell_type": "markdown",
   "metadata": {
    "deletable": false,
    "editable": false,
    "nbgrader": {
     "cell_type": "markdown",
     "checksum": "c55e1fc9d5141e3b743b780e701c1b75",
     "grade": false,
     "grade_id": "cell-442f0c92124c18ef",
     "locked": true,
     "schema_version": 3,
     "solution": false,
     "task": false
    }
   },
   "source": [
    "## Module 3\n",
    "\n",
    "#### In this assignment, you will continue working on the movie data from IMDB.\n",
    "- The data includes movies and ratings from the IMDB website\n",
    "- Data File(s): imdb.xlsx\n",
    "\n",
    "#### Data file contains 3 sheets:\n",
    "- “imdb”: contains records of movies and ratings scraped from IMDB website\n",
    "- “countries”: contains the country (of origin) names\n",
    "- “directors”: contains the director names\n",
    "\n",
    "We have loaded the data as \"df\" for you. Follow the instructions and finish the rest."
   ]
  },
  {
   "cell_type": "code",
   "execution_count": 1,
   "metadata": {
    "deletable": false,
    "editable": false,
    "nbgrader": {
     "cell_type": "code",
     "checksum": "37b1739194dc68da1e455fbe1391a59e",
     "grade": true,
     "grade_id": "init_test",
     "locked": true,
     "points": 0,
     "schema_version": 3,
     "solution": false,
     "task": false
    }
   },
   "outputs": [],
   "source": [
    "###########################################################\n",
    "### EXECUTE THIS CELL BEFORE YOU TO TEST YOUR SOLUTIONS ###\n",
    "###########################################################\n",
    "\n",
    "import imp, os, sys\n",
    "sol = imp.load_compiled(\"solutions\", \"./solutions.py\")\n",
    "sol.get_solutions(\"imdb.xlsx\")\n",
    "from nose.tools import assert_equal\n",
    "from pandas.util.testing import assert_frame_equal, assert_series_equal"
   ]
  },
  {
   "cell_type": "code",
   "execution_count": 153,
   "metadata": {
    "deletable": false,
    "editable": false,
    "nbgrader": {
     "cell_type": "code",
     "checksum": "47c7d74a4c086fb6dfdb4fd6b5ec58cd",
     "grade": true,
     "grade_id": "init_user",
     "locked": true,
     "points": 0,
     "schema_version": 3,
     "solution": false,
     "task": false
    }
   },
   "outputs": [
    {
     "name": "stdout",
     "output_type": "stream",
     "text": [
      "Data Loading Finished.\n"
     ]
    }
   ],
   "source": [
    "# Loading the data\n",
    "import pandas as pd\n",
    "\n",
    "xls = pd.ExcelFile('imdb.xlsx')\n",
    "df = xls.parse('imdb')\n",
    "df_directors = xls.parse('directors')\n",
    "df_countries = xls.parse('countries')\n",
    "\n",
    "print(\"Data Loading Finished.\")"
   ]
  },
  {
   "cell_type": "code",
   "execution_count": 3,
   "metadata": {},
   "outputs": [
    {
     "data": {
      "text/plain": [
       "Index(['movie_title', 'director_id', 'country_id', 'content_rating',\n",
       "       'title_year', 'imdb_score', 'gross', 'duration'],\n",
       "      dtype='object')"
      ]
     },
     "execution_count": 3,
     "metadata": {},
     "output_type": "execute_result"
    }
   ],
   "source": [
    "df.columns"
   ]
  },
  {
   "cell_type": "code",
   "execution_count": 5,
   "metadata": {},
   "outputs": [
    {
     "data": {
      "text/plain": [
       "Index(['id', 'director_name'], dtype='object')"
      ]
     },
     "execution_count": 5,
     "metadata": {},
     "output_type": "execute_result"
    }
   ],
   "source": [
    "df_directors.columns"
   ]
  },
  {
   "cell_type": "code",
   "execution_count": 154,
   "metadata": {
    "deletable": false,
    "nbgrader": {
     "cell_type": "code",
     "checksum": "934c927f4b01e0159476418f3ead5d3b",
     "grade": false,
     "grade_id": "q1",
     "locked": false,
     "schema_version": 3,
     "solution": true,
     "task": false
    }
   },
   "outputs": [
    {
     "data": {
      "text/plain": [
       "(178, 12)"
      ]
     },
     "execution_count": 154,
     "metadata": {},
     "output_type": "execute_result"
    }
   ],
   "source": [
    "\"\"\" Q1: \n",
    "Join three Dataframes: df, df_directors, and df_countries with an inner join.\n",
    "Store the joined DataFrames in df.\n",
    "\n",
    "Here are the steps:\n",
    "1. Merge df with df_countries and assign it df\n",
    "2. Merge df with df_directors and assign it to df again\n",
    "There might be errors if the merge is not in this order, so please be careful.\n",
    "\n",
    "\"\"\"\n",
    "\n",
    "df = pd.merge(left = pd.merge(left = df, right = df_countries, left_on=\"country_id\", right_on=\"id\"), left_on=\"director_id\", right = df_directors, right_on=\"id\")\n",
    "\n",
    "df.shape"
   ]
  },
  {
   "cell_type": "code",
   "execution_count": 11,
   "metadata": {
    "deletable": false,
    "editable": false,
    "nbgrader": {
     "cell_type": "code",
     "checksum": "6418dc30719348533bb2ef27248c1aec",
     "grade": true,
     "grade_id": "q1_test",
     "locked": true,
     "points": 2,
     "schema_version": 3,
     "solution": false,
     "task": false
    }
   },
   "outputs": [
    {
     "name": "stdout",
     "output_type": "stream",
     "text": [
      "Success!\n"
     ]
    }
   ],
   "source": [
    "assert_equal(df.shape, sol.df.shape)\n",
    "print(\"Success!\")"
   ]
  },
  {
   "cell_type": "code",
   "execution_count": 18,
   "metadata": {
    "deletable": false,
    "nbgrader": {
     "cell_type": "code",
     "checksum": "2f675b233dd003c91a91165e1a5efecf",
     "grade": false,
     "grade_id": "q2",
     "locked": false,
     "schema_version": 3,
     "solution": true,
     "task": false
    }
   },
   "outputs": [],
   "source": [
    "\"\"\" Q2: \n",
    "Save the first ten rows of movie titles in a variable called first10, then print it\n",
    "\"\"\"\n",
    "\n",
    "first10 = df.movie_title[:10]\n",
    "\n"
   ]
  },
  {
   "cell_type": "code",
   "execution_count": 19,
   "metadata": {
    "deletable": false,
    "editable": false,
    "nbgrader": {
     "cell_type": "code",
     "checksum": "2cc3487c2c16ed3bed05a26577b31c24",
     "grade": true,
     "grade_id": "q2_test",
     "locked": true,
     "points": 1,
     "schema_version": 3,
     "solution": false,
     "task": false
    }
   },
   "outputs": [
    {
     "name": "stdout",
     "output_type": "stream",
     "text": [
      "Success!\n"
     ]
    }
   ],
   "source": [
    "assert_series_equal(first10, sol.first10)\n",
    "print(\"Success!\")"
   ]
  },
  {
   "cell_type": "code",
   "execution_count": 155,
   "metadata": {
    "deletable": false,
    "nbgrader": {
     "cell_type": "code",
     "checksum": "c5a4aff2be0a202928c900a6879205ab",
     "grade": false,
     "grade_id": "q3",
     "locked": false,
     "schema_version": 3,
     "solution": true,
     "task": false
    }
   },
   "outputs": [],
   "source": [
    "\"\"\" Q3: \n",
    "There's an extra character at the end of each movie title. \n",
    "Remove it from the data using str.replace.\n",
    "And print the first ten rows of movie titles again. \n",
    "\"\"\"\n",
    "\n",
    "for i in range(df.shape[0]):\n",
    "    df.movie_title[i] = df.movie_title[i].replace(\"Ê\", \"\")"
   ]
  },
  {
   "cell_type": "code",
   "execution_count": 28,
   "metadata": {},
   "outputs": [
    {
     "data": {
      "text/html": [
       "<div>\n",
       "<style scoped>\n",
       "    .dataframe tbody tr th:only-of-type {\n",
       "        vertical-align: middle;\n",
       "    }\n",
       "\n",
       "    .dataframe tbody tr th {\n",
       "        vertical-align: top;\n",
       "    }\n",
       "\n",
       "    .dataframe thead th {\n",
       "        text-align: right;\n",
       "    }\n",
       "</style>\n",
       "<table border=\"1\" class=\"dataframe\">\n",
       "  <thead>\n",
       "    <tr style=\"text-align: right;\">\n",
       "      <th></th>\n",
       "      <th>movie_title</th>\n",
       "      <th>director_id</th>\n",
       "      <th>country_id</th>\n",
       "      <th>content_rating</th>\n",
       "      <th>title_year</th>\n",
       "      <th>imdb_score</th>\n",
       "      <th>gross</th>\n",
       "      <th>duration</th>\n",
       "      <th>id_x</th>\n",
       "      <th>country</th>\n",
       "      <th>id_y</th>\n",
       "      <th>director_name</th>\n",
       "    </tr>\n",
       "  </thead>\n",
       "  <tbody>\n",
       "    <tr>\n",
       "      <th>0</th>\n",
       "      <td>The Shawshank Redemption</td>\n",
       "      <td>34</td>\n",
       "      <td>1</td>\n",
       "      <td>R</td>\n",
       "      <td>1994</td>\n",
       "      <td>9.3</td>\n",
       "      <td>28341469</td>\n",
       "      <td>142</td>\n",
       "      <td>1</td>\n",
       "      <td>USA</td>\n",
       "      <td>34</td>\n",
       "      <td>Frank Darabont</td>\n",
       "    </tr>\n",
       "    <tr>\n",
       "      <th>1</th>\n",
       "      <td>The Green Mile</td>\n",
       "      <td>34</td>\n",
       "      <td>1</td>\n",
       "      <td>R</td>\n",
       "      <td>1999</td>\n",
       "      <td>8.5</td>\n",
       "      <td>136801374</td>\n",
       "      <td>189</td>\n",
       "      <td>1</td>\n",
       "      <td>USA</td>\n",
       "      <td>34</td>\n",
       "      <td>Frank Darabont</td>\n",
       "    </tr>\n",
       "    <tr>\n",
       "      <th>2</th>\n",
       "      <td>The Godfather</td>\n",
       "      <td>33</td>\n",
       "      <td>1</td>\n",
       "      <td>R</td>\n",
       "      <td>1972</td>\n",
       "      <td>9.2</td>\n",
       "      <td>134821952</td>\n",
       "      <td>175</td>\n",
       "      <td>1</td>\n",
       "      <td>USA</td>\n",
       "      <td>33</td>\n",
       "      <td>Francis Ford Coppola</td>\n",
       "    </tr>\n",
       "    <tr>\n",
       "      <th>3</th>\n",
       "      <td>The Godfather: Part II</td>\n",
       "      <td>33</td>\n",
       "      <td>1</td>\n",
       "      <td>R</td>\n",
       "      <td>1974</td>\n",
       "      <td>9.0</td>\n",
       "      <td>57300000</td>\n",
       "      <td>220</td>\n",
       "      <td>1</td>\n",
       "      <td>USA</td>\n",
       "      <td>33</td>\n",
       "      <td>Francis Ford Coppola</td>\n",
       "    </tr>\n",
       "    <tr>\n",
       "      <th>4</th>\n",
       "      <td>Apocalypse Now</td>\n",
       "      <td>33</td>\n",
       "      <td>1</td>\n",
       "      <td>R</td>\n",
       "      <td>1979</td>\n",
       "      <td>8.5</td>\n",
       "      <td>78800000</td>\n",
       "      <td>289</td>\n",
       "      <td>1</td>\n",
       "      <td>USA</td>\n",
       "      <td>33</td>\n",
       "      <td>Francis Ford Coppola</td>\n",
       "    </tr>\n",
       "    <tr>\n",
       "      <th>...</th>\n",
       "      <td>...</td>\n",
       "      <td>...</td>\n",
       "      <td>...</td>\n",
       "      <td>...</td>\n",
       "      <td>...</td>\n",
       "      <td>...</td>\n",
       "      <td>...</td>\n",
       "      <td>...</td>\n",
       "      <td>...</td>\n",
       "      <td>...</td>\n",
       "      <td>...</td>\n",
       "      <td>...</td>\n",
       "    </tr>\n",
       "    <tr>\n",
       "      <th>173</th>\n",
       "      <td>Dancer in the Dark</td>\n",
       "      <td>66</td>\n",
       "      <td>13</td>\n",
       "      <td>R</td>\n",
       "      <td>2000</td>\n",
       "      <td>8.0</td>\n",
       "      <td>4157491</td>\n",
       "      <td>140</td>\n",
       "      <td>13</td>\n",
       "      <td>Denmark</td>\n",
       "      <td>66</td>\n",
       "      <td>Lars von Trier</td>\n",
       "    </tr>\n",
       "    <tr>\n",
       "      <th>174</th>\n",
       "      <td>Pan's Labyrinth</td>\n",
       "      <td>42</td>\n",
       "      <td>17</td>\n",
       "      <td>R</td>\n",
       "      <td>2006</td>\n",
       "      <td>8.2</td>\n",
       "      <td>37623143</td>\n",
       "      <td>112</td>\n",
       "      <td>17</td>\n",
       "      <td>Spain</td>\n",
       "      <td>42</td>\n",
       "      <td>Guillermo del Toro</td>\n",
       "    </tr>\n",
       "    <tr>\n",
       "      <th>175</th>\n",
       "      <td>The Sea Inside</td>\n",
       "      <td>2</td>\n",
       "      <td>17</td>\n",
       "      <td>PG-13</td>\n",
       "      <td>2004</td>\n",
       "      <td>8.1</td>\n",
       "      <td>2086345</td>\n",
       "      <td>125</td>\n",
       "      <td>17</td>\n",
       "      <td>Spain</td>\n",
       "      <td>2</td>\n",
       "      <td>Alejandro Amenabar</td>\n",
       "    </tr>\n",
       "    <tr>\n",
       "      <th>176</th>\n",
       "      <td>The Secret in Their Eyes</td>\n",
       "      <td>61</td>\n",
       "      <td>16</td>\n",
       "      <td>R</td>\n",
       "      <td>2009</td>\n",
       "      <td>8.2</td>\n",
       "      <td>20167424</td>\n",
       "      <td>129</td>\n",
       "      <td>16</td>\n",
       "      <td>Argentina</td>\n",
       "      <td>61</td>\n",
       "      <td>Juan Jose Campanella</td>\n",
       "    </tr>\n",
       "    <tr>\n",
       "      <th>177</th>\n",
       "      <td>Mad Max: Fury Road</td>\n",
       "      <td>39</td>\n",
       "      <td>19</td>\n",
       "      <td>R</td>\n",
       "      <td>2015</td>\n",
       "      <td>8.1</td>\n",
       "      <td>153629485</td>\n",
       "      <td>120</td>\n",
       "      <td>19</td>\n",
       "      <td>Australia</td>\n",
       "      <td>39</td>\n",
       "      <td>George Miller</td>\n",
       "    </tr>\n",
       "  </tbody>\n",
       "</table>\n",
       "<p>178 rows × 12 columns</p>\n",
       "</div>"
      ],
      "text/plain": [
       "                  movie_title  director_id  country_id content_rating  \\\n",
       "0    The Shawshank Redemption           34           1              R   \n",
       "1              The Green Mile           34           1              R   \n",
       "2               The Godfather           33           1              R   \n",
       "3      The Godfather: Part II           33           1              R   \n",
       "4              Apocalypse Now           33           1              R   \n",
       "..                        ...          ...         ...            ...   \n",
       "173        Dancer in the Dark           66          13              R   \n",
       "174           Pan's Labyrinth           42          17              R   \n",
       "175            The Sea Inside            2          17          PG-13   \n",
       "176  The Secret in Their Eyes           61          16              R   \n",
       "177        Mad Max: Fury Road           39          19              R   \n",
       "\n",
       "     title_year  imdb_score      gross  duration  id_x    country  id_y  \\\n",
       "0          1994         9.3   28341469       142     1        USA    34   \n",
       "1          1999         8.5  136801374       189     1        USA    34   \n",
       "2          1972         9.2  134821952       175     1        USA    33   \n",
       "3          1974         9.0   57300000       220     1        USA    33   \n",
       "4          1979         8.5   78800000       289     1        USA    33   \n",
       "..          ...         ...        ...       ...   ...        ...   ...   \n",
       "173        2000         8.0    4157491       140    13    Denmark    66   \n",
       "174        2006         8.2   37623143       112    17      Spain    42   \n",
       "175        2004         8.1    2086345       125    17      Spain     2   \n",
       "176        2009         8.2   20167424       129    16  Argentina    61   \n",
       "177        2015         8.1  153629485       120    19  Australia    39   \n",
       "\n",
       "            director_name  \n",
       "0          Frank Darabont  \n",
       "1          Frank Darabont  \n",
       "2    Francis Ford Coppola  \n",
       "3    Francis Ford Coppola  \n",
       "4    Francis Ford Coppola  \n",
       "..                    ...  \n",
       "173        Lars von Trier  \n",
       "174    Guillermo del Toro  \n",
       "175    Alejandro Amenabar  \n",
       "176  Juan Jose Campanella  \n",
       "177         George Miller  \n",
       "\n",
       "[178 rows x 12 columns]"
      ]
     },
     "execution_count": 28,
     "metadata": {},
     "output_type": "execute_result"
    }
   ],
   "source": [
    "df"
   ]
  },
  {
   "cell_type": "code",
   "execution_count": 156,
   "metadata": {
    "deletable": false,
    "editable": false,
    "nbgrader": {
     "cell_type": "code",
     "checksum": "17f3f65e0f9ab4918e1de3cf7f237674",
     "grade": true,
     "grade_id": "q3_test",
     "locked": true,
     "points": 1,
     "schema_version": 3,
     "solution": false,
     "task": false
    }
   },
   "outputs": [
    {
     "name": "stdout",
     "output_type": "stream",
     "text": [
      "Success!\n"
     ]
    }
   ],
   "source": [
    "assert_frame_equal(df, sol.df)\n",
    "print(\"Success!\")"
   ]
  },
  {
   "cell_type": "code",
   "execution_count": 157,
   "metadata": {
    "deletable": false,
    "nbgrader": {
     "cell_type": "code",
     "checksum": "261cfefc65ac0190b49ff14c891f1320",
     "grade": false,
     "grade_id": "q4",
     "locked": false,
     "schema_version": 3,
     "solution": true,
     "task": false
    }
   },
   "outputs": [
    {
     "data": {
      "text/plain": [
       "director_name\n",
       "Akira Kurosawa           1\n",
       "Alejandro Amenabar       1\n",
       "Alejandro G. Inarritu    2\n",
       "Alfred Hitchcock         1\n",
       "Andrew Stanton           2\n",
       "                        ..\n",
       "Victor Fleming           2\n",
       "Vincent Paronnaud        1\n",
       "Wes Anderson             1\n",
       "Wolfgang Petersen        1\n",
       "Woody Allen              1\n",
       "Length: 117, dtype: int64"
      ]
     },
     "execution_count": 157,
     "metadata": {},
     "output_type": "execute_result"
    }
   ],
   "source": [
    "\"\"\" Q4:\n",
    "Who is the director with the most movies? First get the number of movies per \"director_name\", then save the director's name\n",
    "and count as a series of length 1 called \"director_with_most\"\n",
    "\"\"\"\n",
    "\n",
    "\n",
    "df.pivot_table(index=\"director_name\", aggfunc=\"size\")\n",
    "df.director_name.value_counts()\n",
    "pd.Series(df.groupby([\"director_name\"], sort = True).size())"
   ]
  },
  {
   "cell_type": "code",
   "execution_count": 158,
   "metadata": {},
   "outputs": [
    {
     "data": {
      "text/plain": [
       "Christopher Nolan      7\n",
       "Martin Scorsese        6\n",
       "Quentin Tarantino      6\n",
       "Steven Spielberg       5\n",
       "Ridley Scott           4\n",
       "                      ..\n",
       "Morten Tyldum          1\n",
       "Fritz Lang             1\n",
       "John G. Avildsen       1\n",
       "James McTeigue         1\n",
       "Oliver Hirschbiegel    1\n",
       "Name: director_name, Length: 117, dtype: int64"
      ]
     },
     "execution_count": 158,
     "metadata": {},
     "output_type": "execute_result"
    }
   ],
   "source": [
    "df.director_name.value_counts()"
   ]
  },
  {
   "cell_type": "code",
   "execution_count": 159,
   "metadata": {},
   "outputs": [],
   "source": [
    "director_with_most = pd.Series(df.director_name.value_counts()[0], index=[df.director_name.value_counts().index[0]], name=\"director_name\")"
   ]
  },
  {
   "cell_type": "code",
   "execution_count": 160,
   "metadata": {},
   "outputs": [
    {
     "data": {
      "text/plain": [
       "Christopher Nolan    7\n",
       "Name: director_name, dtype: int64"
      ]
     },
     "execution_count": 160,
     "metadata": {},
     "output_type": "execute_result"
    }
   ],
   "source": [
    "sol.director_with_most"
   ]
  },
  {
   "cell_type": "code",
   "execution_count": null,
   "metadata": {},
   "outputs": [],
   "source": []
  },
  {
   "cell_type": "code",
   "execution_count": 161,
   "metadata": {
    "deletable": false,
    "editable": false,
    "nbgrader": {
     "cell_type": "code",
     "checksum": "0438fa08ab0ceff6014a77aab7dc5b99",
     "grade": true,
     "grade_id": "q4_test",
     "locked": true,
     "points": 1,
     "schema_version": 3,
     "solution": false,
     "task": false
    }
   },
   "outputs": [
    {
     "name": "stdout",
     "output_type": "stream",
     "text": [
      "Success!\n"
     ]
    }
   ],
   "source": [
    "assert_series_equal(director_with_most, sol.director_with_most)\n",
    "print(\"Success!\")"
   ]
  },
  {
   "cell_type": "code",
   "execution_count": 162,
   "metadata": {
    "deletable": false,
    "nbgrader": {
     "cell_type": "code",
     "checksum": "3be80348f7afc8234eff3b7cef5957ca",
     "grade": false,
     "grade_id": "q5",
     "locked": false,
     "schema_version": 3,
     "solution": true,
     "task": false
    }
   },
   "outputs": [],
   "source": [
    "\"\"\"Q5:\n",
    "Save all of this director's movies and their ratings in a variable called all_movies_ratings, then print this variable.\n",
    "(The director with the most movies you got from the last question.)\n",
    "\"\"\"\n",
    "\n",
    "all_movies_ratings = df[df.director_name == \"Christopher Nolan\"].loc[:,[\"movie_title\", \"imdb_score\"]]\n",
    "\n"
   ]
  },
  {
   "cell_type": "code",
   "execution_count": 163,
   "metadata": {},
   "outputs": [
    {
     "data": {
      "text/html": [
       "<div>\n",
       "<style scoped>\n",
       "    .dataframe tbody tr th:only-of-type {\n",
       "        vertical-align: middle;\n",
       "    }\n",
       "\n",
       "    .dataframe tbody tr th {\n",
       "        vertical-align: top;\n",
       "    }\n",
       "\n",
       "    .dataframe thead th {\n",
       "        text-align: right;\n",
       "    }\n",
       "</style>\n",
       "<table border=\"1\" class=\"dataframe\">\n",
       "  <thead>\n",
       "    <tr style=\"text-align: right;\">\n",
       "      <th></th>\n",
       "      <th>movie_title</th>\n",
       "      <th>imdb_score</th>\n",
       "    </tr>\n",
       "  </thead>\n",
       "  <tbody>\n",
       "    <tr>\n",
       "      <th>5</th>\n",
       "      <td>The Dark Knight</td>\n",
       "      <td>9.0</td>\n",
       "    </tr>\n",
       "    <tr>\n",
       "      <th>6</th>\n",
       "      <td>Inception</td>\n",
       "      <td>8.8</td>\n",
       "    </tr>\n",
       "    <tr>\n",
       "      <th>7</th>\n",
       "      <td>Interstellar</td>\n",
       "      <td>8.6</td>\n",
       "    </tr>\n",
       "    <tr>\n",
       "      <th>8</th>\n",
       "      <td>Memento</td>\n",
       "      <td>8.5</td>\n",
       "    </tr>\n",
       "    <tr>\n",
       "      <th>9</th>\n",
       "      <td>The Prestige</td>\n",
       "      <td>8.5</td>\n",
       "    </tr>\n",
       "    <tr>\n",
       "      <th>10</th>\n",
       "      <td>The Dark Knight Rises</td>\n",
       "      <td>8.5</td>\n",
       "    </tr>\n",
       "    <tr>\n",
       "      <th>11</th>\n",
       "      <td>Batman Begins</td>\n",
       "      <td>8.3</td>\n",
       "    </tr>\n",
       "  </tbody>\n",
       "</table>\n",
       "</div>"
      ],
      "text/plain": [
       "              movie_title  imdb_score\n",
       "5         The Dark Knight         9.0\n",
       "6               Inception         8.8\n",
       "7            Interstellar         8.6\n",
       "8                 Memento         8.5\n",
       "9            The Prestige         8.5\n",
       "10  The Dark Knight Rises         8.5\n",
       "11          Batman Begins         8.3"
      ]
     },
     "execution_count": 163,
     "metadata": {},
     "output_type": "execute_result"
    }
   ],
   "source": [
    "sol.all_movies_ratings"
   ]
  },
  {
   "cell_type": "code",
   "execution_count": 117,
   "metadata": {
    "deletable": false,
    "editable": false,
    "nbgrader": {
     "cell_type": "code",
     "checksum": "4cf4ca56b90991677f896679d3b37fcc",
     "grade": true,
     "grade_id": "q5_test",
     "locked": true,
     "points": 1,
     "schema_version": 3,
     "solution": false,
     "task": false
    }
   },
   "outputs": [
    {
     "name": "stdout",
     "output_type": "stream",
     "text": [
      "Success!\n"
     ]
    }
   ],
   "source": [
    "assert_frame_equal(all_movies_ratings, sol.all_movies_ratings)\n",
    "print(\"Success!\")"
   ]
  },
  {
   "cell_type": "code",
   "execution_count": 165,
   "metadata": {},
   "outputs": [
    {
     "data": {
      "text/plain": [
       "54    Alien\n",
       "Name: movie_title, dtype: object"
      ]
     },
     "execution_count": 165,
     "metadata": {},
     "output_type": "execute_result"
    }
   ],
   "source": [
    "pd.DataFrame(pd.DataFrame(df.iloc[rint, :]))"
   ]
  },
  {
   "cell_type": "code",
   "execution_count": 175,
   "metadata": {},
   "outputs": [
    {
     "data": {
      "text/html": [
       "<div>\n",
       "<style scoped>\n",
       "    .dataframe tbody tr th:only-of-type {\n",
       "        vertical-align: middle;\n",
       "    }\n",
       "\n",
       "    .dataframe tbody tr th {\n",
       "        vertical-align: top;\n",
       "    }\n",
       "\n",
       "    .dataframe thead th {\n",
       "        text-align: right;\n",
       "    }\n",
       "</style>\n",
       "<table border=\"1\" class=\"dataframe\">\n",
       "  <thead>\n",
       "    <tr style=\"text-align: right;\">\n",
       "      <th></th>\n",
       "      <th>158</th>\n",
       "    </tr>\n",
       "  </thead>\n",
       "  <tbody>\n",
       "    <tr>\n",
       "      <th>movie_title</th>\n",
       "      <td>The Pianist</td>\n",
       "    </tr>\n",
       "    <tr>\n",
       "      <th>director_id</th>\n",
       "      <td>94</td>\n",
       "    </tr>\n",
       "    <tr>\n",
       "      <th>country_id</th>\n",
       "      <td>7</td>\n",
       "    </tr>\n",
       "    <tr>\n",
       "      <th>content_rating</th>\n",
       "      <td>R</td>\n",
       "    </tr>\n",
       "    <tr>\n",
       "      <th>title_year</th>\n",
       "      <td>2002</td>\n",
       "    </tr>\n",
       "    <tr>\n",
       "      <th>imdb_score</th>\n",
       "      <td>8.5</td>\n",
       "    </tr>\n",
       "    <tr>\n",
       "      <th>gross</th>\n",
       "      <td>32519322</td>\n",
       "    </tr>\n",
       "    <tr>\n",
       "      <th>duration</th>\n",
       "      <td>150</td>\n",
       "    </tr>\n",
       "    <tr>\n",
       "      <th>id_x</th>\n",
       "      <td>7</td>\n",
       "    </tr>\n",
       "    <tr>\n",
       "      <th>country</th>\n",
       "      <td>France</td>\n",
       "    </tr>\n",
       "    <tr>\n",
       "      <th>id_y</th>\n",
       "      <td>94</td>\n",
       "    </tr>\n",
       "    <tr>\n",
       "      <th>director_name</th>\n",
       "      <td>Roman Polanski</td>\n",
       "    </tr>\n",
       "  </tbody>\n",
       "</table>\n",
       "</div>"
      ],
      "text/plain": [
       "                           158\n",
       "movie_title        The Pianist\n",
       "director_id                 94\n",
       "country_id                   7\n",
       "content_rating               R\n",
       "title_year                2002\n",
       "imdb_score                 8.5\n",
       "gross                 32519322\n",
       "duration                   150\n",
       "id_x                         7\n",
       "country                 France\n",
       "id_y                        94\n",
       "director_name   Roman Polanski"
      ]
     },
     "execution_count": 175,
     "metadata": {},
     "output_type": "execute_result"
    }
   ],
   "source": [
    "rand_goodmovie"
   ]
  },
  {
   "cell_type": "code",
   "execution_count": 179,
   "metadata": {},
   "outputs": [],
   "source": [
    "random_title = rand_goodmovie.iloc[0]\n",
    "random_imdb_score = rand_goodmovie.iloc[5]"
   ]
  },
  {
   "cell_type": "code",
   "execution_count": 181,
   "metadata": {},
   "outputs": [
    {
     "data": {
      "text/plain": [
       "'The Pianist'"
      ]
     },
     "execution_count": 181,
     "metadata": {},
     "output_type": "execute_result"
    }
   ],
   "source": [
    "random_title.iloc[0]"
   ]
  },
  {
   "cell_type": "code",
   "execution_count": 193,
   "metadata": {
    "deletable": false,
    "nbgrader": {
     "cell_type": "code",
     "checksum": "e3e551311b5ac0f2ebab76f6dc84d6b8",
     "grade": false,
     "grade_id": "q6",
     "locked": false,
     "schema_version": 3,
     "solution": true,
     "task": false
    }
   },
   "outputs": [],
   "source": [
    "\"\"\"Q6:\n",
    "Recommend a **random** movie that has a rating of over 8.3. \n",
    "Store the random recommendation in a variable called \"rand_goodmovie\".\n",
    "What is the title and imdb_score of your recommendation?\n",
    " \n",
    "Here are the steps:\n",
    "1. Query the data ('df' DataFrame) for movies with a rating over 8.3 (imdb_score > 8.3)\n",
    "2. Create a random integer index location to get a single movie recommendation\n",
    "3. Save the random movie recommendation in a DataFrame called 'rand_goodmovie'\n",
    "4. Save the title of the random movie recommendation in a variable \"random_title\" and print it\n",
    "5. Save the imdb_score of the random movie recommendation in a variable \"random_imdb_score\" and print it\n",
    "\n",
    "\"\"\"\n",
    "# Do not modify this part, it's needed for grading\n",
    "import random\n",
    "random.seed(0)\n",
    "df = df[df.imdb_score > 8.3]\n",
    "rint = random.randint(0, df.shape[0])\n",
    "\n",
    "\n",
    "rand_goodmovie = pd.DataFrame(pd.DataFrame(df.iloc[rint, :])).T\n",
    "random_title = rand_goodmovie.iloc[:, 0]\n",
    "random_imdb_score = rand_goodmovie.iloc[:, 5]"
   ]
  },
  {
   "cell_type": "code",
   "execution_count": 194,
   "metadata": {},
   "outputs": [
    {
     "data": {
      "text/html": [
       "<div>\n",
       "<style scoped>\n",
       "    .dataframe tbody tr th:only-of-type {\n",
       "        vertical-align: middle;\n",
       "    }\n",
       "\n",
       "    .dataframe tbody tr th {\n",
       "        vertical-align: top;\n",
       "    }\n",
       "\n",
       "    .dataframe thead th {\n",
       "        text-align: right;\n",
       "    }\n",
       "</style>\n",
       "<table border=\"1\" class=\"dataframe\">\n",
       "  <thead>\n",
       "    <tr style=\"text-align: right;\">\n",
       "      <th></th>\n",
       "      <th>movie_title</th>\n",
       "      <th>director_id</th>\n",
       "      <th>country_id</th>\n",
       "      <th>content_rating</th>\n",
       "      <th>title_year</th>\n",
       "      <th>imdb_score</th>\n",
       "      <th>gross</th>\n",
       "      <th>duration</th>\n",
       "      <th>id_x</th>\n",
       "      <th>country</th>\n",
       "      <th>id_y</th>\n",
       "      <th>director_name</th>\n",
       "    </tr>\n",
       "  </thead>\n",
       "  <tbody>\n",
       "    <tr>\n",
       "      <th>158</th>\n",
       "      <td>The Pianist</td>\n",
       "      <td>94</td>\n",
       "      <td>7</td>\n",
       "      <td>R</td>\n",
       "      <td>2002</td>\n",
       "      <td>8.5</td>\n",
       "      <td>32519322</td>\n",
       "      <td>150</td>\n",
       "      <td>7</td>\n",
       "      <td>France</td>\n",
       "      <td>94</td>\n",
       "      <td>Roman Polanski</td>\n",
       "    </tr>\n",
       "  </tbody>\n",
       "</table>\n",
       "</div>"
      ],
      "text/plain": [
       "     movie_title director_id country_id content_rating title_year imdb_score  \\\n",
       "158  The Pianist          94          7              R       2002        8.5   \n",
       "\n",
       "        gross duration id_x country id_y   director_name  \n",
       "158  32519322      150    7  France   94  Roman Polanski  "
      ]
     },
     "execution_count": 194,
     "metadata": {},
     "output_type": "execute_result"
    }
   ],
   "source": [
    "rand_goodmovie"
   ]
  },
  {
   "cell_type": "code",
   "execution_count": 195,
   "metadata": {},
   "outputs": [
    {
     "data": {
      "text/plain": [
       "158    The Pianist\n",
       "Name: movie_title, dtype: object"
      ]
     },
     "execution_count": 195,
     "metadata": {},
     "output_type": "execute_result"
    }
   ],
   "source": [
    "random_title"
   ]
  },
  {
   "cell_type": "code",
   "execution_count": 196,
   "metadata": {},
   "outputs": [
    {
     "data": {
      "text/plain": [
       "158    8.5\n",
       "Name: imdb_score, dtype: object"
      ]
     },
     "execution_count": 196,
     "metadata": {},
     "output_type": "execute_result"
    }
   ],
   "source": [
    "random_imdb_score"
   ]
  },
  {
   "cell_type": "code",
   "execution_count": 197,
   "metadata": {
    "deletable": false,
    "editable": false,
    "nbgrader": {
     "cell_type": "code",
     "checksum": "c08ad62de5024ea39666df040bb168d9",
     "grade": true,
     "grade_id": "q6_test",
     "locked": true,
     "points": 3,
     "schema_version": 3,
     "solution": false,
     "task": false
    }
   },
   "outputs": [
    {
     "name": "stdout",
     "output_type": "stream",
     "text": [
      "Success!\n"
     ]
    }
   ],
   "source": [
    "from nose.tools import assert_in\n",
    "assert_in(rand_goodmovie[[\"movie_title\", \"imdb_score\"]].values, sol.possible_goodmovies[[\"movie_title\", \"imdb_score\"]].values)\n",
    "assert_equal(random_title.iloc[0], rand_goodmovie[\"movie_title\"].iloc[0])\n",
    "assert_equal(random_imdb_score.iloc[0], rand_goodmovie[\"imdb_score\"].iloc[0])\n",
    "print(\"Success!\")\n"
   ]
  },
  {
   "cell_type": "code",
   "execution_count": null,
   "metadata": {},
   "outputs": [],
   "source": []
  }
 ],
 "metadata": {
  "kernelspec": {
   "display_name": "Python 3",
   "language": "python",
   "name": "python3"
  },
  "language_info": {
   "codemirror_mode": {
    "name": "ipython",
    "version": 3
   },
   "file_extension": ".py",
   "mimetype": "text/x-python",
   "name": "python",
   "nbconvert_exporter": "python",
   "pygments_lexer": "ipython3",
   "version": "3.7.6"
  }
 },
 "nbformat": 4,
 "nbformat_minor": 4
}
