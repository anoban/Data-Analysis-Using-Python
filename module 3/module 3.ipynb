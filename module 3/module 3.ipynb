{
 "cells": [
  {
   "cell_type": "markdown",
   "metadata": {
    "deletable": false,
    "editable": false,
    "nbgrader": {
     "cell_type": "markdown",
     "checksum": "c55e1fc9d5141e3b743b780e701c1b75",
     "grade": false,
     "grade_id": "cell-442f0c92124c18ef",
     "locked": true,
     "schema_version": 3,
     "solution": false,
     "task": false
    }
   },
   "source": [
    "## Module 3\n",
    "\n",
    "#### In this assignment, you will continue working on the movie data from IMDB.\n",
    "- The data includes movies and ratings from the IMDB website\n",
    "- Data File(s): imdb.xlsx\n",
    "\n",
    "#### Data file contains 3 sheets:\n",
    "- “imdb”: contains records of movies and ratings scraped from IMDB website\n",
    "- “countries”: contains the country (of origin) names\n",
    "- “directors”: contains the director names\n",
    "\n",
    "We have loaded the data as \"df\" for you. Follow the instructions and finish the rest."
   ]
  },
  {
   "cell_type": "code",
   "execution_count": 21,
   "metadata": {
    "deletable": true,
    "nbgrader": {
     "cell_type": "code",
     "checksum": "47c7d74a4c086fb6dfdb4fd6b5ec58cd",
     "grade": true,
     "grade_id": "init_user",
     "locked": true,
     "points": 0,
     "schema_version": 3,
     "solution": false,
     "task": false
    },
    "tags": []
   },
   "outputs": [],
   "source": [
    "import random\n",
    "import pandas as pd\n",
    "\n",
    "xls = pd.ExcelFile('imdb.xlsx')\n",
    "df = xls.parse('imdb')\n",
    "df_directors = xls.parse('directors')\n",
    "df_countries = xls.parse('countries')"
   ]
  },
  {
   "cell_type": "code",
   "execution_count": 22,
   "metadata": {},
   "outputs": [
    {
     "data": {
      "text/plain": [
       "(Index(['movie_title', 'director_id', 'country_id', 'content_rating',\n",
       "        'title_year', 'imdb_score', 'gross', 'duration'],\n",
       "       dtype='object'),\n",
       " Index(['id', 'director_name'], dtype='object'),\n",
       " Index(['id', 'country'], dtype='object'))"
      ]
     },
     "execution_count": 22,
     "metadata": {},
     "output_type": "execute_result"
    }
   ],
   "source": [
    "df.columns, df_directors.columns, df_countries.columns"
   ]
  },
  {
   "cell_type": "code",
   "execution_count": 23,
   "metadata": {
    "deletable": false,
    "nbgrader": {
     "cell_type": "code",
     "checksum": "934c927f4b01e0159476418f3ead5d3b",
     "grade": false,
     "grade_id": "q1",
     "locked": false,
     "schema_version": 3,
     "solution": true,
     "task": false
    }
   },
   "outputs": [],
   "source": [
    "\"\"\" Q1: \n",
    "Join three Dataframes: df, df_directors, and df_countries with an inner join.\n",
    "Store the joined DataFrames in df.\n",
    "\n",
    "Here are the steps:\n",
    "1. Merge df with df_countries and assign it df\n",
    "2. Merge df with df_directors and assign it to df again\n",
    "There might be errors if the merge is not in this order, so please be careful.\n",
    "\n",
    "\"\"\"\n",
    "\n",
    "df = pd.merge(left = pd.merge(left = df, right = df_directors, right_on = \"id\", left_on = \"director_id\"), left_on = \"country_id\", right = df_countries, right_on = \"id\")"
   ]
  },
  {
   "cell_type": "code",
   "execution_count": 24,
   "metadata": {},
   "outputs": [
    {
     "data": {
      "text/plain": [
       "(178, 12)"
      ]
     },
     "execution_count": 24,
     "metadata": {},
     "output_type": "execute_result"
    }
   ],
   "source": [
    "df.shape"
   ]
  },
  {
   "cell_type": "code",
   "execution_count": 25,
   "metadata": {
    "deletable": false,
    "nbgrader": {
     "cell_type": "code",
     "checksum": "2f675b233dd003c91a91165e1a5efecf",
     "grade": false,
     "grade_id": "q2",
     "locked": false,
     "schema_version": 3,
     "solution": true,
     "task": false
    }
   },
   "outputs": [
    {
     "data": {
      "text/plain": [
       "0    The Shawshank RedemptionÊ\n",
       "1              The Green MileÊ\n",
       "2               The GodfatherÊ\n",
       "3      The Godfather: Part IIÊ\n",
       "4              Apocalypse NowÊ\n",
       "5             The Dark KnightÊ\n",
       "6                   InceptionÊ\n",
       "7                InterstellarÊ\n",
       "8                     MementoÊ\n",
       "9                The PrestigeÊ\n",
       "Name: movie_title, dtype: object"
      ]
     },
     "execution_count": 25,
     "metadata": {},
     "output_type": "execute_result"
    }
   ],
   "source": [
    "\"\"\" Q2: \n",
    "Save the first ten rows of movie titles in a variable called first10, then print it\n",
    "\"\"\"\n",
    "\n",
    "first10 = df.movie_title[:10]\n",
    "first10"
   ]
  },
  {
   "cell_type": "code",
   "execution_count": 26,
   "metadata": {
    "deletable": false,
    "nbgrader": {
     "cell_type": "code",
     "checksum": "c5a4aff2be0a202928c900a6879205ab",
     "grade": false,
     "grade_id": "q3",
     "locked": false,
     "schema_version": 3,
     "solution": true,
     "task": false
    }
   },
   "outputs": [
    {
     "data": {
      "text/plain": [
       "0    The Shawshank Redemption\n",
       "1              The Green Mile\n",
       "2               The Godfather\n",
       "3      The Godfather: Part II\n",
       "4              Apocalypse Now\n",
       "5             The Dark Knight\n",
       "6                   Inception\n",
       "7                Interstellar\n",
       "8                     Memento\n",
       "9                The Prestige\n",
       "Name: movie_title, dtype: object"
      ]
     },
     "execution_count": 26,
     "metadata": {},
     "output_type": "execute_result"
    }
   ],
   "source": [
    "\"\"\" Q3: \n",
    "There's an extra character at the end of each movie title. \n",
    "Remove it from the data using str.replace.\n",
    "And print the first ten rows of movie titles again. \n",
    "\"\"\"\n",
    "\n",
    "first10 = first10.str.replace(\"Ê\", \"\")\n",
    "first10"
   ]
  },
  {
   "cell_type": "code",
   "execution_count": 27,
   "metadata": {
    "deletable": false,
    "nbgrader": {
     "cell_type": "code",
     "checksum": "261cfefc65ac0190b49ff14c891f1320",
     "grade": false,
     "grade_id": "q4",
     "locked": false,
     "schema_version": 3,
     "solution": true,
     "task": false
    }
   },
   "outputs": [
    {
     "data": {
      "text/plain": [
       "Christopher Nolan    7\n",
       "Quentin Tarantino    6\n",
       "Martin Scorsese      6\n",
       "Steven Spielberg     5\n",
       "Ridley Scott         4\n",
       "                    ..\n",
       "Joel Coen            1\n",
       "James McTeigue       1\n",
       "Gavin O'Connor       1\n",
       "Elia Kazan           1\n",
       "George Miller        1\n",
       "Name: director_name, Length: 117, dtype: int64"
      ]
     },
     "execution_count": 27,
     "metadata": {},
     "output_type": "execute_result"
    }
   ],
   "source": [
    "\"\"\" Q4:\n",
    "Who is the director with the most movies? First get the number of movies per \"director_name\", then save the director's name\n",
    "and count as a series of length 1 called \"director_with_most\"\n",
    "\"\"\"\n",
    "\n",
    "df.director_name.value_counts()"
   ]
  },
  {
   "cell_type": "code",
   "execution_count": 28,
   "metadata": {},
   "outputs": [
    {
     "data": {
      "text/plain": [
       "'Christopher Nolan'"
      ]
     },
     "execution_count": 28,
     "metadata": {},
     "output_type": "execute_result"
    }
   ],
   "source": [
    "director_with_most = df.director_name.value_counts().index[0]\n",
    "director_with_most"
   ]
  },
  {
   "cell_type": "code",
   "execution_count": 29,
   "metadata": {
    "deletable": false,
    "nbgrader": {
     "cell_type": "code",
     "checksum": "3be80348f7afc8234eff3b7cef5957ca",
     "grade": false,
     "grade_id": "q5",
     "locked": false,
     "schema_version": 3,
     "solution": true,
     "task": false
    }
   },
   "outputs": [
    {
     "data": {
      "text/html": [
       "<div>\n",
       "<style scoped>\n",
       "    .dataframe tbody tr th:only-of-type {\n",
       "        vertical-align: middle;\n",
       "    }\n",
       "\n",
       "    .dataframe tbody tr th {\n",
       "        vertical-align: top;\n",
       "    }\n",
       "\n",
       "    .dataframe thead th {\n",
       "        text-align: right;\n",
       "    }\n",
       "</style>\n",
       "<table border=\"1\" class=\"dataframe\">\n",
       "  <thead>\n",
       "    <tr style=\"text-align: right;\">\n",
       "      <th></th>\n",
       "      <th>movie_title</th>\n",
       "      <th>imdb_score</th>\n",
       "    </tr>\n",
       "  </thead>\n",
       "  <tbody>\n",
       "    <tr>\n",
       "      <th>5</th>\n",
       "      <td>The Dark Knight</td>\n",
       "      <td>9.0</td>\n",
       "    </tr>\n",
       "    <tr>\n",
       "      <th>6</th>\n",
       "      <td>Inception</td>\n",
       "      <td>8.8</td>\n",
       "    </tr>\n",
       "    <tr>\n",
       "      <th>7</th>\n",
       "      <td>Interstellar</td>\n",
       "      <td>8.6</td>\n",
       "    </tr>\n",
       "    <tr>\n",
       "      <th>8</th>\n",
       "      <td>Memento</td>\n",
       "      <td>8.5</td>\n",
       "    </tr>\n",
       "    <tr>\n",
       "      <th>9</th>\n",
       "      <td>The Prestige</td>\n",
       "      <td>8.5</td>\n",
       "    </tr>\n",
       "    <tr>\n",
       "      <th>10</th>\n",
       "      <td>The Dark Knight Rises</td>\n",
       "      <td>8.5</td>\n",
       "    </tr>\n",
       "    <tr>\n",
       "      <th>11</th>\n",
       "      <td>Batman Begins</td>\n",
       "      <td>8.3</td>\n",
       "    </tr>\n",
       "  </tbody>\n",
       "</table>\n",
       "</div>"
      ],
      "text/plain": [
       "              movie_title  imdb_score\n",
       "5         The Dark Knight         9.0\n",
       "6               Inception         8.8\n",
       "7            Interstellar         8.6\n",
       "8                 Memento         8.5\n",
       "9            The Prestige         8.5\n",
       "10  The Dark Knight Rises         8.5\n",
       "11          Batman Begins         8.3"
      ]
     },
     "execution_count": 29,
     "metadata": {},
     "output_type": "execute_result"
    }
   ],
   "source": [
    "\"\"\"Q5:\n",
    "Save all of this director's movies and their ratings in a variable called all_movies_ratings, then print this variable.\n",
    "(The director with the most movies you got from the last question.)\n",
    "\"\"\"\n",
    "\n",
    "all_movies_ratings = df[df.director_name == director_with_most].loc[:, [\"movie_title\", \"imdb_score\"]]\n",
    "all_movies_ratings.movie_title = all_movies_ratings.movie_title.str.replace(\"Ê\", \"\")\n",
    "all_movies_ratings"
   ]
  },
  {
   "cell_type": "code",
   "execution_count": 44,
   "metadata": {
    "deletable": false,
    "nbgrader": {
     "cell_type": "code",
     "checksum": "e3e551311b5ac0f2ebab76f6dc84d6b8",
     "grade": false,
     "grade_id": "q6",
     "locked": false,
     "schema_version": 3,
     "solution": true,
     "task": false
    }
   },
   "outputs": [
    {
     "data": {
      "text/html": [
       "<div>\n",
       "<style scoped>\n",
       "    .dataframe tbody tr th:only-of-type {\n",
       "        vertical-align: middle;\n",
       "    }\n",
       "\n",
       "    .dataframe tbody tr th {\n",
       "        vertical-align: top;\n",
       "    }\n",
       "\n",
       "    .dataframe thead th {\n",
       "        text-align: right;\n",
       "    }\n",
       "</style>\n",
       "<table border=\"1\" class=\"dataframe\">\n",
       "  <thead>\n",
       "    <tr style=\"text-align: right;\">\n",
       "      <th></th>\n",
       "      <th>125</th>\n",
       "    </tr>\n",
       "  </thead>\n",
       "  <tbody>\n",
       "    <tr>\n",
       "      <th>movie_title</th>\n",
       "      <td>Once Upon a Time in AmericaÊ</td>\n",
       "    </tr>\n",
       "    <tr>\n",
       "      <th>director_id</th>\n",
       "      <td>98.0</td>\n",
       "    </tr>\n",
       "    <tr>\n",
       "      <th>country_id</th>\n",
       "      <td>2.0</td>\n",
       "    </tr>\n",
       "    <tr>\n",
       "      <th>content_rating</th>\n",
       "      <td>R</td>\n",
       "    </tr>\n",
       "    <tr>\n",
       "      <th>title_year</th>\n",
       "      <td>1984.0</td>\n",
       "    </tr>\n",
       "    <tr>\n",
       "      <th>imdb_score</th>\n",
       "      <td>8.4</td>\n",
       "    </tr>\n",
       "    <tr>\n",
       "      <th>gross</th>\n",
       "      <td>5300000.0</td>\n",
       "    </tr>\n",
       "    <tr>\n",
       "      <th>duration</th>\n",
       "      <td>251.0</td>\n",
       "    </tr>\n",
       "    <tr>\n",
       "      <th>id_x</th>\n",
       "      <td>98.0</td>\n",
       "    </tr>\n",
       "    <tr>\n",
       "      <th>director_name</th>\n",
       "      <td>Sergio Leone</td>\n",
       "    </tr>\n",
       "    <tr>\n",
       "      <th>id_y</th>\n",
       "      <td>2.0</td>\n",
       "    </tr>\n",
       "    <tr>\n",
       "      <th>country</th>\n",
       "      <td>Italy</td>\n",
       "    </tr>\n",
       "  </tbody>\n",
       "</table>\n",
       "</div>"
      ],
      "text/plain": [
       "                                         125\n",
       "movie_title     Once Upon a Time in AmericaÊ\n",
       "director_id                             98.0\n",
       "country_id                               2.0\n",
       "content_rating                             R\n",
       "title_year                            1984.0\n",
       "imdb_score                               8.4\n",
       "gross                              5300000.0\n",
       "duration                               251.0\n",
       "id_x                                    98.0\n",
       "director_name                   Sergio Leone\n",
       "id_y                                     2.0\n",
       "country                                Italy"
      ]
     },
     "execution_count": 44,
     "metadata": {},
     "output_type": "execute_result"
    }
   ],
   "source": [
    "\"\"\"Q6:\n",
    "Recommend a **random** movie that has a rating of over 8.3. \n",
    "Store the random recommendation in a variable called \"rand_goodmovie\".\n",
    "What is the title and imdb_score of your recommendation?\n",
    " \n",
    "Here are the steps:\n",
    "1. Query the data ('df' DataFrame) for movies with a rating over 8.3 (imdb_score > 8.3)\n",
    "2. Create a random integer index location to get a single movie recommendation\n",
    "3. Save the random movie recommendation in a DataFrame called 'rand_goodmovie'\n",
    "4. Save the title of the random movie recommendation in a variable \"random_title\" and print it\n",
    "5. Save the imdb_score of the random movie recommendation in a variable \"random_imdb_score\" and print it\n",
    "\n",
    "\"\"\"\n",
    "random.seed(1+6+2022)\n",
    "h_rated = df[df.imdb_score > 8.3]\n",
    "rand_row = random.randint(0, h_rated.shape[0])\n",
    "rand_goodmovie = pd.DataFrame(h_rated.iloc[rand_row, :])\n",
    "rand_goodmovie"
   ]
  },
  {
   "cell_type": "code",
   "execution_count": 50,
   "metadata": {},
   "outputs": [],
   "source": [
    "random_title = rand_goodmovie.loc[\"movie_title\", :]\n",
    "random_imdb_score = rand_goodmovie.loc[\"imdb_score\", :]"
   ]
  },
  {
   "cell_type": "code",
   "execution_count": 51,
   "metadata": {},
   "outputs": [
    {
     "data": {
      "text/plain": [
       "(125    Once Upon a Time in AmericaÊ\n",
       " Name: movie_title, dtype: object,\n",
       " 125    8.4\n",
       " Name: imdb_score, dtype: object)"
      ]
     },
     "execution_count": 51,
     "metadata": {},
     "output_type": "execute_result"
    }
   ],
   "source": [
    "random_title, random_imdb_score"
   ]
  }
 ],
 "metadata": {
  "kernelspec": {
   "display_name": "Python 3 (ipykernel)",
   "language": "python",
   "name": "python3"
  },
  "language_info": {
   "codemirror_mode": {
    "name": "ipython",
    "version": 3
   },
   "file_extension": ".py",
   "mimetype": "text/x-python",
   "name": "python",
   "nbconvert_exporter": "python",
   "pygments_lexer": "ipython3",
   "version": "3.9.13"
  }
 },
 "nbformat": 4,
 "nbformat_minor": 4
}
